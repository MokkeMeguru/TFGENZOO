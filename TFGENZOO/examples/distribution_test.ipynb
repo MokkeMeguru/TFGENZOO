{
 "cells": [
  {
   "cell_type": "code",
   "execution_count": 1,
   "metadata": {},
   "outputs": [],
   "source": [
    "import tensorflow as tf\n",
    "import tensorflow_probability as tfp\n",
    "tfd = tfp.distributions"
   ]
  },
  {
   "cell_type": "code",
   "execution_count": 18,
   "metadata": {},
   "outputs": [
    {
     "name": "stdout",
     "output_type": "stream",
     "text": [
      "2.0.0\n",
      "0.8.0\n"
     ]
    }
   ],
   "source": [
    "print(tf.__version__)\n",
    "print(tfp.__version__)"
   ]
  },
  {
   "cell_type": "code",
   "execution_count": 3,
   "metadata": {},
   "outputs": [],
   "source": [
    "target_dist = tfd.MultivariateNormalDiag(\n",
    "    loc=tf.cast(tf.zeros([32 * 32 * 1]), tf.float32),\n",
    "    scale_diag=tf.cast(tf.ones([32 * 32 * 1]), tf.float32)\n",
    ")"
   ]
  },
  {
   "cell_type": "code",
   "execution_count": 4,
   "metadata": {},
   "outputs": [
    {
     "data": {
      "text/plain": [
       "<tf.Tensor: id=62, shape=(1, 1024), dtype=float32, numpy=\n",
       "array([[-0.7871542 , -0.25464413, -0.560056  , ...,  0.25276813,\n",
       "         0.2677457 , -2.718283  ]], dtype=float32)>"
      ]
     },
     "execution_count": 4,
     "metadata": {},
     "output_type": "execute_result"
    }
   ],
   "source": [
    "target_dist.sample(1)"
   ]
  },
  {
   "cell_type": "code",
   "execution_count": 6,
   "metadata": {},
   "outputs": [
    {
     "name": "stdout",
     "output_type": "stream",
     "text": [
      "shape: [256]\n",
      "mean : 0.0\n"
     ]
    }
   ],
   "source": [
    "samples = target_dist.sample(256)\n",
    "prob = target_dist.prob(samples)\n",
    "print('shape: {}'.format(tf.shape(prob)))\n",
    "print('mean : {}'.format(tf.reduce_mean(prob)))"
   ]
  },
  {
   "cell_type": "code",
   "execution_count": 9,
   "metadata": {},
   "outputs": [
    {
     "name": "stdout",
     "output_type": "stream",
     "text": [
      "whole mean -0.00014054536586627364\n",
      "whole std 1.0018740892410278\n"
     ]
    }
   ],
   "source": [
    "print('whole mean {}'.format(tf.reduce_mean(samples)))\n",
    "print('whole std {}'.format(tf.math.reduce_std(samples)))"
   ]
  },
  {
   "cell_type": "code",
   "execution_count": 13,
   "metadata": {},
   "outputs": [
    {
     "name": "stdout",
     "output_type": "stream",
     "text": [
      "shape: [ 256 1024]\n",
      "mean : 0.0\n"
     ]
    }
   ],
   "source": [
    "target_dist2 = tfd.Normal(loc=0., scale=1.)\n",
    "prob = target_dist2.prob(samples)\n",
    "print('shape: {}'.format(tf.shape(prob)))\n",
    "print('mean : {}'.format(tf.reduce_mean(target_dist.prob(samples))))"
   ]
  },
  {
   "cell_type": "code",
   "execution_count": 16,
   "metadata": {},
   "outputs": [
    {
     "name": "stdout",
     "output_type": "stream",
     "text": [
      "td log_prob : -1454.9139404296875\n",
      "td2 log_prob : -1454.9139404296875\n"
     ]
    }
   ],
   "source": [
    "print('td log_prob : {}'.format(tf.reduce_mean(target_dist.log_prob(samples))))\n",
    "print('td2 log_prob : {}'.format(tf.reduce_mean(tf.reduce_sum(target_dist2.log_prob(samples), axis=[-1]))))\n",
    "# => forget Covariance matrix ???\n",
    "# => log_prob is too low, I think"
   ]
  },
  {
   "cell_type": "code",
   "execution_count": 26,
   "metadata": {},
   "outputs": [
    {
     "data": {
      "text/plain": [
       "<tf.Tensor: id=653, shape=(), dtype=float32, numpy=0.0>"
      ]
     },
     "execution_count": 26,
     "metadata": {},
     "output_type": "execute_result"
    }
   ],
   "source": [
    "tf.reduce_mean(tf.abs(target_dist.prob(samples)))"
   ]
  },
  {
   "cell_type": "code",
   "execution_count": 33,
   "metadata": {},
   "outputs": [
    {
     "name": "stdout",
     "output_type": "stream",
     "text": [
      "log_prob (openAI) : -1454.9139404296875\n"
     ]
    }
   ],
   "source": [
    "# https://github.com/openai/glow/blob/master/tfops.py#L443-L455\n",
    "import numpy as np\n",
    "logsd = tf.zeros(tf.shape(samples)[1:])\n",
    "mean = tf.zeros(tf.shape(samples)[1:])\n",
    "\n",
    "def flatten_sum(_logps):\n",
    "    return tf.reduce_sum(_logps, [1])\n",
    "\n",
    "logps = lambda x : - 0.5 * (np.log (2 * np.pi) + 2. * logsd + (x - mean) ** 2 / tf.exp(2. * logsd))\n",
    "logp = lambda x: flatten_sum(logps(x))\n",
    "\n",
    "print('log_prob (openAI) : {}'.format(tf.reduce_mean(logp(samples))))"
   ]
  }
 ],
 "metadata": {
  "kernelspec": {
   "display_name": "Python 3",
   "language": "python",
   "name": "python3"
  },
  "language_info": {
   "codemirror_mode": {
    "name": "ipython",
    "version": 3
   },
   "file_extension": ".py",
   "mimetype": "text/x-python",
   "name": "python",
   "nbconvert_exporter": "python",
   "pygments_lexer": "ipython3",
   "version": "3.6.8"
  }
 },
 "nbformat": 4,
 "nbformat_minor": 4
}
